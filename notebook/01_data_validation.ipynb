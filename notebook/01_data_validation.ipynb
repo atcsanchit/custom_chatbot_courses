{
 "cells": [
  {
   "cell_type": "code",
   "execution_count": 1,
   "id": "2e108d37-a791-48f6-ad09-06a18733bae2",
   "metadata": {},
   "outputs": [],
   "source": [
    "import os"
   ]
  },
  {
   "cell_type": "code",
   "execution_count": 11,
   "id": "9eb90f5b-e15d-4d48-9775-dc40a44e810a",
   "metadata": {},
   "outputs": [],
   "source": [
    "class DataValidation:\n",
    "    def __init__(self):\n",
    "        self.all_required_files = [\"wechatbot.csv\"]\n",
    "        self.status_file = \"../artifacts/data_validation\"\n",
    "\n",
    "    def save_txt(self, file, location, filename):\n",
    "        if not os.path.exists(location):\n",
    "            os.makedirs(location, exist_ok=True)\n",
    "    \n",
    "        with open(os.path.join(location, filename + \".txt\"), \"w\") as f:\n",
    "            f.write(file)\n",
    "        \n",
    "    def validate_all_file_exist(self):\n",
    "        validation_status = None\n",
    "        all_files = os.listdir(os.path.join(\"../artifacts\",\"data_ingestion\"))\n",
    "        # print(all_files)\n",
    "        for file in all_files:\n",
    "            if file not in self.all_required_files:\n",
    "                validation_status = False\n",
    "                break\n",
    "            else:\n",
    "                validation_status = True\n",
    "\n",
    "        file = f\"validation_status:{validation_status}\"\n",
    "        self.save_txt(file=file, location=self.status_file, filename=\"status\")"
   ]
  },
  {
   "cell_type": "code",
   "execution_count": 13,
   "id": "922865d7-6a8a-4220-9ef4-3a64a876c543",
   "metadata": {},
   "outputs": [],
   "source": [
    "data_validation = DataValidation()\n",
    "data_validation.validate_all_file_exist()"
   ]
  },
  {
   "cell_type": "code",
   "execution_count": null,
   "id": "b0b8479a-e328-455f-92ef-6de6a91b17c8",
   "metadata": {},
   "outputs": [],
   "source": []
  }
 ],
 "metadata": {
  "kernelspec": {
   "display_name": "Python 3 (ipykernel)",
   "language": "python",
   "name": "python3"
  },
  "language_info": {
   "codemirror_mode": {
    "name": "ipython",
    "version": 3
   },
   "file_extension": ".py",
   "mimetype": "text/x-python",
   "name": "python",
   "nbconvert_exporter": "python",
   "pygments_lexer": "ipython3",
   "version": "3.12.4"
  }
 },
 "nbformat": 4,
 "nbformat_minor": 5
}
