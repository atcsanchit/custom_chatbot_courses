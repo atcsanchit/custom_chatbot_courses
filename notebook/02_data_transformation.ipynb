{
 "cells": [
  {
   "cell_type": "code",
   "execution_count": 5,
   "id": "f3bd1050-bc92-4991-bbdf-155c934ea8f6",
   "metadata": {},
   "outputs": [],
   "source": [
    "import os\n",
    "import pandas as pd"
   ]
  },
  {
   "cell_type": "code",
   "execution_count": 21,
   "id": "6cfcd2b1-14c8-4551-b4a5-688bcb4143cb",
   "metadata": {},
   "outputs": [],
   "source": [
    "class DataTransformation:\n",
    "    def __init__(self):\n",
    "        self.data_path = os.path.join(\"../artifacts\", \"data_ingestion\", \"wechatbot.csv\")\n",
    "        self.transformation_path = os.path.join(\"../artifacts\",\"data_transformation\")\n",
    "\n",
    "    def load_dataframe(self):\n",
    "        self.df = pd.read_csv(self.data_path)\n",
    "        self.transformed_df = pd.DataFrame(columns=[\"input\",\"output\"])\n",
    "\n",
    "    def save_csv(self, dataframe, location, filename):\n",
    "        if not os.path.exists(location):\n",
    "            os.makedirs(location, exist_ok=True)\n",
    "\n",
    "        dataframe.to_csv(os.path.join(location, (filename + \".csv\")), index=False)\n",
    "\n",
    "    def direct_question(self):\n",
    "        for index, row in self.df.iterrows():\n",
    "            input_output_dict = {}\n",
    "            list_of_topics = [\"description\", \"session price\", \"lessons\", \"duration\", \"price\"]\n",
    "            \n",
    "            for topic_index, topic in enumerate(list_of_topics):\n",
    "                question = \"what is the {flag1} of the course {flag2}\".format(flag1 = topic, flag2 = row[0])        \n",
    "                answer = \"the {flag1} is: {flag2}\".format(flag1 = topic, flag2 = row[topic_index + 1])\n",
    "                input_output_dict[\"input\"] = question\n",
    "                input_output_dict[\"output\"] = answer\n",
    "                new_row = pd.DataFrame([input_output_dict])  # Create DataFrame from dict\n",
    "                self.transformed_df = pd.concat([self.transformed_df, new_row], ignore_index=True)\n",
    "                \n",
    "        self.save_csv(dataframe=self.transformed_df, location=self.transformation_path, filename=\"transformed\")\n",
    "    \n",
    "    def initiate_data_transformation(self):\n",
    "        self.load_dataframe()\n",
    "        self.direct_question()"
   ]
  },
  {
   "cell_type": "code",
   "execution_count": 23,
   "id": "e2aef8a5-b9b5-4629-acf0-7c930054fc28",
   "metadata": {},
   "outputs": [
    {
     "name": "stderr",
     "output_type": "stream",
     "text": [
      "C:\\Users\\USER\\AppData\\Local\\Temp\\ipykernel_13124\\3121096567.py:22: FutureWarning: Series.__getitem__ treating keys as positions is deprecated. In a future version, integer keys will always be treated as labels (consistent with DataFrame behavior). To access a value by position, use `ser.iloc[pos]`\n",
      "  question = \"what is the {flag1} of the course {flag2}\".format(flag1 = topic, flag2 = row[0])\n",
      "C:\\Users\\USER\\AppData\\Local\\Temp\\ipykernel_13124\\3121096567.py:23: FutureWarning: Series.__getitem__ treating keys as positions is deprecated. In a future version, integer keys will always be treated as labels (consistent with DataFrame behavior). To access a value by position, use `ser.iloc[pos]`\n",
      "  answer = \"the {flag1} is: {flag2}\".format(flag1 = topic, flag2 = row[topic_index + 1])\n"
     ]
    }
   ],
   "source": [
    "data_transformation = DataTransformation()\n",
    "data_transformation.initiate_data_transformation()"
   ]
  },
  {
   "cell_type": "code",
   "execution_count": null,
   "id": "3f91b753-bf4f-4cda-8b06-3ce241e76e21",
   "metadata": {},
   "outputs": [],
   "source": []
  }
 ],
 "metadata": {
  "kernelspec": {
   "display_name": "Python 3 (ipykernel)",
   "language": "python",
   "name": "python3"
  },
  "language_info": {
   "codemirror_mode": {
    "name": "ipython",
    "version": 3
   },
   "file_extension": ".py",
   "mimetype": "text/x-python",
   "name": "python",
   "nbconvert_exporter": "python",
   "pygments_lexer": "ipython3",
   "version": "3.12.4"
  }
 },
 "nbformat": 4,
 "nbformat_minor": 5
}
